{
 "cells": [
  {
   "cell_type": "markdown",
   "metadata": {},
   "source": [
    "# Text Summarizer\n",
    "by Manuel Romero Muñoz / mrm8488"
   ]
  },
  {
   "cell_type": "markdown",
   "metadata": {},
   "source": [
    "![Image of Summarizing](summarize.png)"
   ]
  },
  {
   "cell_type": "markdown",
   "metadata": {},
   "source": [
    "## 2 types of summarization:"
   ]
  },
  {
   "cell_type": "markdown",
   "metadata": {},
   "source": [
    "1. **Abstractive**: select words based on semantic understanding, even those words did not appear in the source documents. It aims at producing important material in a new way. They interpret and examine the text using advanced NLP techniques.\n",
    "\n",
    "    - Pros: \"Similar\" to the human way (smarter).\n",
    "    - Cons: Cope with problems such as semantic representation, inference and natural language generation.\n",
    "    \n",
    "> Input document → understand context → semantics → create own summary.    "
   ]
  },
  {
   "cell_type": "markdown",
   "metadata": {},
   "source": [
    "2. **Extractive**: summarize articles by selecting a subset of words (in the article) that retain the most important points.\n",
    "\n",
    "    - Pros:  Do not need to train and build a model prior start using it for your project (often times give better results compared to automatic abstractive summaries).\n",
    "    - Cons: Not so smart.\n",
    "    \n",
    "> Input document → sentences similarity → weight sentences → select sentences with higher rank.   "
   ]
  },
  {
   "cell_type": "markdown",
   "metadata": {},
   "source": [
    "### Example of Extractive summarization:"
   ]
  },
  {
   "cell_type": "markdown",
   "metadata": {},
   "source": [
    "##### 1. Import all necessary libraries"
   ]
  },
  {
   "cell_type": "code",
   "execution_count": 1,
   "metadata": {},
   "outputs": [],
   "source": [
    "import nltk\n",
    "\n",
    "from nltk.corpus import stopwords\n",
    "\n",
    "from nltk.cluster.util import cosine_distance\n",
    "\n",
    "import numpy as np\n",
    "\n",
    "import networkx as nx"
   ]
  },
  {
   "cell_type": "markdown",
   "metadata": {},
   "source": [
    "##### 2. Generate clean sentences"
   ]
  },
  {
   "cell_type": "code",
   "execution_count": 7,
   "metadata": {},
   "outputs": [],
   "source": [
    "def read_article(file_name):\n",
    "\n",
    "    file = open(file_name, \"r\")\n",
    "\n",
    "    filedata = file.readlines()\n",
    "\n",
    "    article = filedata[0].split(\". \")\n",
    "\n",
    "    sentences = []\n",
    "\n",
    "\n",
    "\n",
    "    for sentence in article:\n",
    "\n",
    "        print(sentence)\n",
    "\n",
    "        sentences.append(sentence.replace(\"[^a-zA-Z]\", \" \").split(\" \"))\n",
    "\n",
    "    sentences.pop() \n",
    "\n",
    "    \n",
    "\n",
    "    return sentences"
   ]
  },
  {
   "cell_type": "markdown",
   "metadata": {},
   "source": [
    "##### 3. Similarity matrix\n",
    "This is where we will be using cosine similarity to find similarity between sentences."
   ]
  },
  {
   "cell_type": "code",
   "execution_count": 8,
   "metadata": {},
   "outputs": [],
   "source": [
    "def sentence_similarity(sent1, sent2, stopwords=None):\n",
    "\n",
    "    if stopwords is None:\n",
    "\n",
    "        stopwords = []\n",
    "\n",
    " \n",
    "\n",
    "    sent1 = [w.lower() for w in sent1]\n",
    "\n",
    "    sent2 = [w.lower() for w in sent2]\n",
    "\n",
    " \n",
    "\n",
    "    all_words = list(set(sent1 + sent2))\n",
    "\n",
    " \n",
    "\n",
    "    vector1 = [0] * len(all_words)\n",
    "\n",
    "    vector2 = [0] * len(all_words)\n",
    "\n",
    " \n",
    "\n",
    "    # build the vector for the first sentence\n",
    "\n",
    "    for w in sent1:\n",
    "\n",
    "        if w in stopwords:\n",
    "\n",
    "            continue\n",
    "\n",
    "        vector1[all_words.index(w)] += 1\n",
    "\n",
    " \n",
    "\n",
    "    # build the vector for the second sentence\n",
    "\n",
    "    for w in sent2:\n",
    "\n",
    "        if w in stopwords:\n",
    "\n",
    "            continue\n",
    "\n",
    "        vector2[all_words.index(w)] += 1\n",
    "\n",
    " \n",
    "\n",
    "    return 1 - cosine_distance(vector1, vector2)"
   ]
  },
  {
   "cell_type": "code",
   "execution_count": 9,
   "metadata": {},
   "outputs": [],
   "source": [
    "def build_similarity_matrix(sentences, stop_words):\n",
    "\n",
    "    # Create an empty similarity matrix\n",
    "\n",
    "    similarity_matrix = np.zeros((len(sentences), len(sentences)))\n",
    "\n",
    " \n",
    "\n",
    "    for idx1 in range(len(sentences)):\n",
    "\n",
    "        for idx2 in range(len(sentences)):\n",
    "\n",
    "            if idx1 == idx2: #ignore if both are same sentences\n",
    "\n",
    "                continue \n",
    "\n",
    "            similarity_matrix[idx1][idx2] = sentence_similarity(sentences[idx1], sentences[idx2], stop_words)\n",
    "\n",
    "\n",
    "    return similarity_matrix"
   ]
  },
  {
   "cell_type": "markdown",
   "metadata": {},
   "source": [
    "##### 4. Generate Summary Method\n",
    "Method will keep calling all other helper function to keep our summarization pipeline going. Make sure to take a look at all # Steps in below code."
   ]
  },
  {
   "cell_type": "code",
   "execution_count": 13,
   "metadata": {},
   "outputs": [],
   "source": [
    "def generate_summary(file_name, top_n=5):\n",
    "\n",
    "    nltk.download(\"stopwords\")\n",
    "\n",
    "    stop_words = stopwords.words('english')\n",
    "\n",
    "    summarize_text = []\n",
    "\n",
    "\n",
    "\n",
    "    # Step 1 - Read text anc split it\n",
    "\n",
    "    sentences =  read_article(file_name)\n",
    "    print(\"\\n\")\n",
    "\n",
    "\n",
    "\n",
    "    # Step 2 - Generate Similary Martix across sentences\n",
    "\n",
    "    sentence_similarity_martix = build_similarity_matrix(sentences, stop_words)\n",
    "\n",
    "\n",
    "\n",
    "    # Step 3 - Rank sentences in similarity martix\n",
    "\n",
    "    sentence_similarity_graph = nx.from_numpy_array(sentence_similarity_martix)\n",
    "\n",
    "    scores = nx.pagerank(sentence_similarity_graph)\n",
    "\n",
    "\n",
    "\n",
    "    # Step 4 - Sort the rank and pick top sentences\n",
    "\n",
    "    ranked_sentence = sorted(((scores[i],s) for i,s in enumerate(sentences)), reverse=True)    \n",
    "\n",
    "    print(\"Indexes of top ranked_sentence order are \", ranked_sentence)\n",
    "    print(\"\\n\")\n",
    "\n",
    "\n",
    "\n",
    "    for i in range(top_n):\n",
    "\n",
    "        summarize_text.append(\" \".join(ranked_sentence[i][1]))\n",
    "\n",
    "\n",
    "\n",
    "    # Step 5 - Offcourse, output the summarize text\n",
    "\n",
    "    print(\"Summarize Text: \\n\", \". \".join(summarize_text))"
   ]
  },
  {
   "cell_type": "code",
   "execution_count": 14,
   "metadata": {},
   "outputs": [
    {
     "name": "stdout",
     "output_type": "stream",
     "text": [
      "[nltk_data] Downloading package stopwords to C:\\Users\\Manuel\n",
      "[nltk_data]     Romero\\AppData\\Roaming\\nltk_data...\n",
      "[nltk_data]   Package stopwords is already up-to-date!\n",
      "WASHINGTON - The Trump administration has ordered the military to start withdrawing roughly 7,000 troops from Afghanistan in the coming months, two defense officials said Thursday, an abrupt shift in the 17-year-old war there and a decision that stunned Afghan officials, who said they had not been briefed on the plans.President Trump made the decision to pull the troops - about half the number the United States has in Afghanistan now - at the same time he decided to pull American forces out of Syria, one official said.The announcement came hours after Jim Mattis, the secretary of defense, said that he would resign from his position at the end of February after disagreeing with the president over his approach to policy in the Middle East.The whirlwind of troop withdrawals and the resignation of Mr\n",
      "Mattis leave a murky picture for what is next in the United States’ longest war, and they come as Afghanistan has been troubled by spasms of violence afflicting the capital, Kabul, and other important areas\n",
      "The United States has also been conducting talks with representatives of the Taliban, in what officials have described as discussions that could lead to formal talks to end the conflict.Senior Afghan officials and Western diplomats in Kabul woke up to the shock of the news on Friday morning, and many of them braced for chaos ahead\n",
      "Several Afghan officials, often in the loop on security planning and decision-making, said they had received no indication in recent days that the Americans would pull troops out\n",
      "The fear that Mr\n",
      "Trump might take impulsive actions, however, often loomed in the background of discussions with the United States, they said.They saw the abrupt decision as a further sign that voices from the ground were lacking in the debate over the war and that with Mr\n",
      "Mattis’s resignation, Afghanistan had lost one of the last influential voices in Washington who channeled the reality of the conflict into the White House’s deliberations.The president long campaigned on bringing troops home, but in 2017, at the request of Mr\n",
      "Mattis, he begrudgingly pledged an additional 4,000 troops to the Afghan campaign to try to hasten an end to the conflict.Though Pentagon officials have said the influx of forces - coupled with a more aggressive air campaign - was helping the war effort, Afghan forces continued to take nearly unsustainable levels of casualties and lose ground to the Taliban.The renewed American effort in 2017 was the first step in ensuring Afghan forces could become more independent without a set timeline for a withdrawal\n",
      "But with plans to quickly reduce the number of American troops in the country, it is unclear if the Afghans can hold their own against an increasingly aggressive Taliban.Currently, American airstrikes are at levels not seen since the height of the war, when tens of thousands of American troops were spread throughout the country\n",
      "That air support, officials say, consists mostly of propping up Afghan troops while they try to hold territory from a resurgent Taliban.\n",
      "\n",
      "\n",
      "Indexes of top ranked_sentence order are  [(0.21481805670368562, ['WASHINGTON', '-', 'The', 'Trump', 'administration', 'has', 'ordered', 'the', 'military', 'to', 'start', 'withdrawing', 'roughly', '7,000', 'troops', 'from', 'Afghanistan', 'in', 'the', 'coming', 'months,', 'two', 'defense', 'officials', 'said', 'Thursday,', 'an', 'abrupt', 'shift', 'in', 'the', '17-year-old', 'war', 'there', 'and', 'a', 'decision', 'that', 'stunned', 'Afghan', 'officials,', 'who', 'said', 'they', 'had', 'not', 'been', 'briefed', 'on', 'the', 'plans.President', 'Trump', 'made', 'the', 'decision', 'to', 'pull', 'the', 'troops', '-', 'about', 'half', 'the', 'number', 'the', 'United', 'States', 'has', 'in', 'Afghanistan', 'now', '-', 'at', 'the', 'same', 'time', 'he', 'decided', 'to', 'pull', 'American', 'forces', 'out', 'of', 'Syria,', 'one', 'official', 'said.The', 'announcement', 'came', 'hours', 'after', 'Jim', 'Mattis,', 'the', 'secretary', 'of', 'defense,', 'said', 'that', 'he', 'would', 'resign', 'from', 'his', 'position', 'at', 'the', 'end', 'of', 'February', 'after', 'disagreeing', 'with', 'the', 'president', 'over', 'his', 'approach', 'to', 'policy', 'in', 'the', 'Middle', 'East.The', 'whirlwind', 'of', 'troop', 'withdrawals', 'and', 'the', 'resignation', 'of', 'Mr']), (0.1423545391059273, ['Mattis,', 'he', 'begrudgingly', 'pledged', 'an', 'additional', '4,000', 'troops', 'to', 'the', 'Afghan', 'campaign', 'to', 'try', 'to', 'hasten', 'an', 'end', 'to', 'the', 'conflict.Though', 'Pentagon', 'officials', 'have', 'said', 'the', 'influx', 'of', 'forces', '-', 'coupled', 'with', 'a', 'more', 'aggressive', 'air', 'campaign', '-', 'was', 'helping', 'the', 'war', 'effort,', 'Afghan', 'forces', 'continued', 'to', 'take', 'nearly', 'unsustainable', 'levels', 'of', 'casualties', 'and', 'lose', 'ground', 'to', 'the', 'Taliban.The', 'renewed', 'American', 'effort', 'in', '2017', 'was', 'the', 'first', 'step', 'in', 'ensuring', 'Afghan', 'forces', 'could', 'become', 'more', 'independent', 'without', 'a', 'set', 'timeline', 'for', 'a', 'withdrawal']), (0.12147806249060757, ['Trump', 'might', 'take', 'impulsive', 'actions,', 'however,', 'often', 'loomed', 'in', 'the', 'background', 'of', 'discussions', 'with', 'the', 'United', 'States,', 'they', 'said.They', 'saw', 'the', 'abrupt', 'decision', 'as', 'a', 'further', 'sign', 'that', 'voices', 'from', 'the', 'ground', 'were', 'lacking', 'in', 'the', 'debate', 'over', 'the', 'war', 'and', 'that', 'with', 'Mr']), (0.11153559318610855, ['Several', 'Afghan', 'officials,', 'often', 'in', 'the', 'loop', 'on', 'security', 'planning', 'and', 'decision-making,', 'said', 'they', 'had', 'received', 'no', 'indication', 'in', 'recent', 'days', 'that', 'the', 'Americans', 'would', 'pull', 'troops', 'out']), (0.1114014349061657, ['Mattis’s', 'resignation,', 'Afghanistan', 'had', 'lost', 'one', 'of', 'the', 'last', 'influential', 'voices', 'in', 'Washington', 'who', 'channeled', 'the', 'reality', 'of', 'the', 'conflict', 'into', 'the', 'White', 'House’s', 'deliberations.The', 'president', 'long', 'campaigned', 'on', 'bringing', 'troops', 'home,', 'but', 'in', '2017,', 'at', 'the', 'request', 'of', 'Mr']), (0.08975918313916043, ['But', 'with', 'plans', 'to', 'quickly', 'reduce', 'the', 'number', 'of', 'American', 'troops', 'in', 'the', 'country,', 'it', 'is', 'unclear', 'if', 'the', 'Afghans', 'can', 'hold', 'their', 'own', 'against', 'an', 'increasingly', 'aggressive', 'Taliban.Currently,', 'American', 'airstrikes', 'are', 'at', 'levels', 'not', 'seen', 'since', 'the', 'height', 'of', 'the', 'war,', 'when', 'tens', 'of', 'thousands', 'of', 'American', 'troops', 'were', 'spread', 'throughout', 'the', 'country']), (0.0793514328956062, ['The', 'United', 'States', 'has', 'also', 'been', 'conducting', 'talks', 'with', 'representatives', 'of', 'the', 'Taliban,', 'in', 'what', 'officials', 'have', 'described', 'as', 'discussions', 'that', 'could', 'lead', 'to', 'formal', 'talks', 'to', 'end', 'the', 'conflict.Senior', 'Afghan', 'officials', 'and', 'Western', 'diplomats', 'in', 'Kabul', 'woke', 'up', 'to', 'the', 'shock', 'of', 'the', 'news', 'on', 'Friday', 'morning,', 'and', 'many', 'of', 'them', 'braced', 'for', 'chaos', 'ahead']), (0.07417173963898509, ['The', 'fear', 'that', 'Mr']), (0.05512995793375358, ['Mattis', 'leave', 'a', 'murky', 'picture', 'for', 'what', 'is', 'next', 'in', 'the', 'United', 'States’', 'longest', 'war,', 'and', 'they', 'come', 'as', 'Afghanistan', 'has', 'been', 'troubled', 'by', 'spasms', 'of', 'violence', 'afflicting', 'the', 'capital,', 'Kabul,', 'and', 'other', 'important', 'areas'])]\n",
      "\n",
      "\n",
      "Summarize Text: \n",
      " WASHINGTON - The Trump administration has ordered the military to start withdrawing roughly 7,000 troops from Afghanistan in the coming months, two defense officials said Thursday, an abrupt shift in the 17-year-old war there and a decision that stunned Afghan officials, who said they had not been briefed on the plans.President Trump made the decision to pull the troops - about half the number the United States has in Afghanistan now - at the same time he decided to pull American forces out of Syria, one official said.The announcement came hours after Jim Mattis, the secretary of defense, said that he would resign from his position at the end of February after disagreeing with the president over his approach to policy in the Middle East.The whirlwind of troop withdrawals and the resignation of Mr. Mattis, he begrudgingly pledged an additional 4,000 troops to the Afghan campaign to try to hasten an end to the conflict.Though Pentagon officials have said the influx of forces - coupled with a more aggressive air campaign - was helping the war effort, Afghan forces continued to take nearly unsustainable levels of casualties and lose ground to the Taliban.The renewed American effort in 2017 was the first step in ensuring Afghan forces could become more independent without a set timeline for a withdrawal\n"
     ]
    }
   ],
   "source": [
    "generate_summary( \"trump.txt\", 2)"
   ]
  },
  {
   "cell_type": "code",
   "execution_count": null,
   "metadata": {},
   "outputs": [],
   "source": []
  }
 ],
 "metadata": {
  "kernelspec": {
   "display_name": "Python 3",
   "language": "python",
   "name": "python3"
  },
  "language_info": {
   "codemirror_mode": {
    "name": "ipython",
    "version": 3
   },
   "file_extension": ".py",
   "mimetype": "text/x-python",
   "name": "python",
   "nbconvert_exporter": "python",
   "pygments_lexer": "ipython3",
   "version": "3.6.4"
  }
 },
 "nbformat": 4,
 "nbformat_minor": 2
}
